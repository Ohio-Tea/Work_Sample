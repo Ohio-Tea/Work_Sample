{
 "cells": [
  {
   "cell_type": "code",
   "execution_count": null,
   "id": "7284085d",
   "metadata": {},
   "outputs": [],
   "source": [
    "# This work was design to build a rank list based on customer's likelihood on purchasing certain product \n",
    "# as an advising reference to marketing groups.\n",
    "# The file contain all model constructing and evaluation script based on pre-constructed, selected databases\n",
    "# queried using SQL.\n",
    "\n",
    "# Notes: Some reference name and specific section of code are removed as the file is only for demonstration purpose"
   ]
  },
  {
   "cell_type": "code",
   "execution_count": null,
   "id": "ed9511bb",
   "metadata": {},
   "outputs": [],
   "source": [
    "# Importing library for model visualization, model construction abd evaluation\n",
    "\n",
    "from sklearn.model_selection import train_test_split,StratifiedKFold, GridSearchCV\n",
    "from sklearn.metrics import roc_auc_score, classification_report\n",
    "from sklearn.metrics import confusion_matrix, ConfusionMatrixDisplay\n",
    "from sklearn.metrics import roc_curve\n",
    "from sklearn.experimental import enable_halving_search_cv  # noqa\n",
    "from sklearn.model_selection import HalvingGridSearchCV\n",
    "from lightgbm import LGBMClassifier,plot_tree\n",
    "from sklearn.ensemble import VotingClassifier\n",
    "import scikitplot as skplt\n",
    "import plot_metric  #pip install plot-metric\n",
    "from plot_metric import functions\n",
    "import graphviz\n",
    "import sqlalchemy #uses pyodbc or ibm_db backend\n",
    "import ibm_db\n",
    "import ibm_db\n",
    "import ibm_db_sa # uses ibm-db package\n",
    "import numpy as np\n",
    "import pandas as pd\n",
    "import lightgbm\n",
    "import shap\n",
    "import re\n",
    "import pickle\n",
    "import seaborn as sns\n",
    "import matplotlib.pyplot as  plt\n",
    "%matplotlib inline\n",
    "import warnings\n",
    "warnings.filterwarnings(\"ignore\")\n",
    "pd.set_option('display.max_columns', 1100)\n",
    "#pd.set_option('display.max_columns', None)\n",
    "pd.set_option('display.max_rows', None)"
   ]
  },
  {
   "cell_type": "code",
   "execution_count": null,
   "id": "c6fac6a1",
   "metadata": {},
   "outputs": [],
   "source": [
    "# Import data file\n",
    "df_samp =pd.read_pickle('DataFile_Path')#retrieve data from the pickle file\n",
    "df_samp.columns= df_samp.columns.str.upper()"
   ]
  },
  {
   "cell_type": "code",
   "execution_count": null,
   "id": "930ab240",
   "metadata": {},
   "outputs": [],
   "source": [
    "#score data\n",
    "df_score =pd.read_pickle(\"DataFile_Path\") #retrieve data from the pickle file\n",
    "df_score.columns= df_score.columns.str.upper()\n",
    "df_score.shape"
   ]
  },
  {
   "cell_type": "code",
   "execution_count": null,
   "id": "063fe77d",
   "metadata": {},
   "outputs": [],
   "source": [
    "dataset=df_samp[columns.upper().split()]\n",
    "\n",
    "dataset.dtypes"
   ]
  },
  {
   "cell_type": "markdown",
   "id": "43110672",
   "metadata": {},
   "source": [
    "* Change the data type of below features to float"
   ]
  },
  {
   "cell_type": "code",
   "execution_count": null,
   "id": "814f7dad",
   "metadata": {},
   "outputs": [],
   "source": [
    "columns_change_dtype=['A list of column names']\n",
    "\n",
    "#--------------------------------------------------------------------------------------------------\n",
    "\n",
    "#train data\n",
    "dataset[columns_change_dtype]=dataset[columns_change_dtype].astype(float)\n",
    "\n",
    "\n",
    "#---------------------------------------------------------------------------------------------------\n",
    "#score data\n",
    "df_score[columns_change_dtype]=df_score[columns_change_dtype].astype(float)"
   ]
  },
  {
   "cell_type": "markdown",
   "id": "f50b6717",
   "metadata": {},
   "source": [
    "<a id='data visualization' style=\"color:blue;font-size:140%;\"> 2. Data Visualization</a>"
   ]
  },
  {
   "cell_type": "code",
   "execution_count": null,
   "id": "d0e2d7ba",
   "metadata": {},
   "outputs": [],
   "source": [
    "# Examining the distribution of the target column which is the historical record of whether the customer made purchase after contact\n",
    "dataset['TARGET'].value_counts()"
   ]
  },
  {
   "cell_type": "code",
   "execution_count": null,
   "id": "35f6130b",
   "metadata": {},
   "outputs": [],
   "source": [
    "print('Distribution of the Target in thedataset %')\n",
    "print((dataset['TARGET'].value_counts()/len(dataset)*100))\n",
    "print(dataset['TARGET'].value_counts())\n",
    "sns.countplot(x= 'TARGET', data= dataset)\n",
    "plt.title('TARGET', fontsize=14)\n",
    "plt.show()"
   ]
  },
  {
   "cell_type": "code",
   "execution_count": null,
   "id": "f4aafcbf",
   "metadata": {},
   "outputs": [],
   "source": [
    "cat_col=[]    #categorical features\n",
    "\n",
    "num_col=[]    # numeric features\n",
    "\n",
    "obj_col=[]    # features with object data type and cardinal more than 10\n",
    "\n",
    "for col3 in dataset.columns:\n",
    "    if len(dataset[col3].unique())<=25:\n",
    "        cat_col.append(col3)\n",
    "        \n",
    "    elif len(dataset[col3].unique())>25 and dataset[col3].dtype==\"object\":\n",
    "        obj_col.append(col3)\n",
    "        \n",
    "    else:\n",
    "        num_col.append(col3)\n",
    "        \n",
    "\n",
    "print(\"The number of categorical features:\", len(cat_col))\n",
    "print(\"---------------------------------------------------------------------------------------\")\n",
    "print(\"The number of numeric features:\", len(num_col))\n",
    "print(\"---------------------------------------------------------------------------------------\")\n",
    "print(\"The number of object features(cardinal more than 10):\", len(obj_col))"
   ]
  },
  {
   "cell_type": "markdown",
   "id": "5391a0ca",
   "metadata": {},
   "source": [
    "##### 2.2. Visualization of continuous features"
   ]
  },
  {
   "cell_type": "markdown",
   "id": "c5242e19",
   "metadata": {},
   "source": [
    "<a class=\"btn btn-warning btn-lg btn-block active\" role=\"button\" aria-pressed=\"true\" style=\"background-color:DodgerBlue; color:white\">Violinplot of Continuous Features</a>"
   ]
  },
  {
   "cell_type": "code",
   "execution_count": null,
   "id": "5ce9a878",
   "metadata": {},
   "outputs": [],
   "source": [
    "# violinplots for each continuous feature\n",
    "\n",
    "i=1\n",
    "plt.figure(figsize=(25,25))\n",
    "for col in num_col:\n",
    "    plt.subplot(4,6, i) #!!!\n",
    "    \n",
    "    df=pd.melt(dataset[[col]+[\"TARGET\"]], id_vars=\"TARGET\",\n",
    "    var_name=\"{}\".format(\"\"), value_name='{}_Histogram'.format(col))\n",
    "    \n",
    "    sns.violinplot(x=\"{}\".format(\"\"),y=\"{}_Histogram\".format(col), data=df, hue=\"TARGET\",split=True, inner=\"quart\")\n",
    "    i=i+1"
   ]
  },
  {
   "cell_type": "markdown",
   "id": "07d86c24",
   "metadata": {},
   "source": [
    "<a class=\"btn btn-warning btn-lg btn-block active\" role=\"button\" aria-pressed=\"true\" style=\"background-color:DodgerBlue; color:white\">Boxplot of Continuous Features</a>"
   ]
  },
  {
   "cell_type": "code",
   "execution_count": null,
   "id": "cfad6514",
   "metadata": {},
   "outputs": [],
   "source": [
    "i=1\n",
    "plt.figure(figsize=(25,25))\n",
    "for col in num_col:\n",
    "    plt.subplot(4,6, i)\n",
    "    sns.boxplot(x=\"TARGET\", y=col, data=dataset[num_col+[\"TARGET\"]])\n",
    "    i=i+1"
   ]
  },
  {
   "cell_type": "markdown",
   "id": "9a08cd96",
   "metadata": {},
   "source": [
    "<a class=\"btn btn-warning btn-lg btn-block active\" role=\"button\" aria-pressed=\"true\" style=\"background-color:DodgerBlue; color:white\">Countplot of Categorical Features</a>"
   ]
  },
  {
   "cell_type": "code",
   "execution_count": null,
   "id": "ad0e1afb",
   "metadata": {},
   "outputs": [],
   "source": [
    "i=1\n",
    "plt.figure(figsize=(25,75))\n",
    "for col in cat_col[:60]:\n",
    "    plt.subplot(10,6, i)\n",
    "    df_c=dataset[[col,\"TARGET\"]]\n",
    "    \n",
    "    df_c.columns=[col[:50],'TARGET']\n",
    "    \n",
    "    a=df_c.columns\n",
    "    \n",
    "    df_c[a[0]]=df_c[a[0]].apply(lambda x:str(x)[:50])\n",
    "    ax=sns.countplot(df_c[a[0]], hue=df_c[\"TARGET\"])\n",
    "    \n",
    "    ax.set_xticklabels(\n",
    "    ax.get_xticklabels(), \n",
    "    rotation=45, \n",
    "    horizontalalignment='right',\n",
    "    fontweight='light'\n",
    "    )\n",
    "    \n",
    "    del df_c\n",
    "    \n",
    "    i=i+1"
   ]
  },
  {
   "cell_type": "markdown",
   "id": "1e2795bd",
   "metadata": {},
   "source": [
    "<a class=\"btn btn-warning btn-lg btn-block active\" role=\"button\" aria-pressed=\"true\" style=\"background-color:DodgerBlue; color:white\">Correlation Matrix</a>"
   ]
  },
  {
   "cell_type": "code",
   "execution_count": null,
   "id": "6ff98fa0",
   "metadata": {},
   "outputs": [],
   "source": [
    "corr_matrix = dataset.corr()\n",
    "fig, ax = plt.subplots(figsize=(25, 15))\n",
    "ax = sns.heatmap(corr_matrix, annot=True, linewidths=0.5, fmt=\".2f\", cmap=plt.cm.Accent);\n",
    "bottom, top = ax.get_ylim()\n",
    "ax.set_ylim(bottom + 0.5, top - 0.5)\n",
    "plt.show()"
   ]
  },
  {
   "cell_type": "code",
   "execution_count": null,
   "id": "1d419860",
   "metadata": {},
   "outputs": [],
   "source": [
    "#  Drop highly correlated features(more than 0.95)\n",
    "\n",
    "cor_matrix_abs = dataset.corr().abs()\n",
    "\n",
    "\n",
    "upper_tri_abs = cor_matrix_abs.where(np.triu(np.ones(cor_matrix_abs.shape),k=1).astype(np.bool))\n",
    "\n",
    "\n",
    "features_to_drop = [column for column in upper_tri_abs.columns if any(upper_tri_abs[column] > 0.95)]"
   ]
  },
  {
   "cell_type": "markdown",
   "id": "10ed6ef0",
   "metadata": {},
   "source": [
    "<a class=\"btn btn-warning btn-lg btn-block active\" role=\"button\" aria-pressed=\"true\" style=\"background-color:DodgerBlue; color:white\">Negative and positive correlations</a>"
   ]
  },
  {
   "cell_type": "code",
   "execution_count": null,
   "id": "35d7648d",
   "metadata": {},
   "outputs": [],
   "source": [
    "dataset1= dataset.drop(features_to_drop, axis=1)\n",
    "\n",
    "dataset1.drop('TARGET', axis=1).corrwith(dataset1.TARGET).plot(\n",
    "    kind='barh', grid=True, figsize=(10, 7),title=\"Positive & Negative Correlation with the Target\", color=\"r\")\n",
    "plt.xlabel(\"Correlation with target\")\n",
    "plt.show()"
   ]
  },
  {
   "cell_type": "markdown",
   "id": "6844a54c",
   "metadata": {},
   "source": [
    "<a id='feature encoding' style=\"color:blue;font-size:140%;\"> 3. Feature encoding</a>"
   ]
  },
  {
   "cell_type": "code",
   "execution_count": null,
   "id": "e10899af",
   "metadata": {},
   "outputs": [],
   "source": [
    "# A small sample for brute force search\n",
    "sap_df = dataset1.sample(17000, random_state = 5281)\n",
    "fig, axes = plt.subplots(nrows=5,ncols=2)\n"
   ]
  },
  {
   "cell_type": "code",
   "execution_count": null,
   "id": "6158c5d6",
   "metadata": {},
   "outputs": [],
   "source": [
    "\n",
    "X_train_fin,X_test_fin, y_train_fin,y_test_fin=train_test_split(data_fin.drop('TARGET',axis=1),data_fin['TARGET'], test_size=0.2,random_state=42)"
   ]
  },
  {
   "cell_type": "code",
   "execution_count": null,
   "id": "65f65450",
   "metadata": {},
   "outputs": [],
   "source": [
    "def f_encode(train, test,score,col):\n",
    "    df=pd.concat([train[col],test[col]], axis=0, ignore_index=True).fillna(\"NaN\")\n",
    "    \n",
    "    d=df.value_counts(normalize=True).to_dict()\n",
    "    \n",
    "    if \"missing\" in d.keys():\n",
    "        d[\"missing\"]=-999\n",
    "        \n",
    "        train[col]=train[col].fillna(\"NaN\").map(d)\n",
    "        test[col]=test[col].fillna(\"NaN\").map(d)\n",
    "        score[col]=score[col].fillna(\"NaN\").map(d)\n",
    "    else:\n",
    "        train[col]=train[col].fillna(\"NaN\").map(d)\n",
    "        test[col]=test[col].fillna(\"NaN\").map(d)\n",
    "        score[col]=score[col].fillna(\"NaN\").map(d)\n",
    "    \n",
    "    return train[col], test[col],score[col]"
   ]
  },
  {
   "cell_type": "code",
   "execution_count": null,
   "id": "c674c558",
   "metadata": {},
   "outputs": [],
   "source": [
    "for col in dataset_cat_names:\n",
    "    X_train[col], X_test[col], df_score[col]=f_encode( X_train, X_test,df_score,col)"
   ]
  },
  {
   "cell_type": "markdown",
   "id": "92dfcf5b",
   "metadata": {},
   "source": [
    "<a id='Modelling' style=\"color:blue;font-size:140%;\"> 4. Modelling</a>"
   ]
  },
  {
   "cell_type": "code",
   "execution_count": null,
   "id": "26ccf6b4",
   "metadata": {},
   "outputs": [],
   "source": [
    "from imblearn.under_sampling import RandomUnderSampler\n",
    "from imblearn.over_sampling import SMOTE\n",
    "\n",
    "\n",
    "rus=RandomUnderSampler(sampling_strategy=0.3)"
   ]
  },
  {
   "cell_type": "code",
   "execution_count": null,
   "id": "fee14b56",
   "metadata": {},
   "outputs": [],
   "source": [
    "# This is the main body of a lightgbm model used, parameters are either optimized by grid search or optuna and \n",
    "# a list of importance was produced along with all evaulation scores\n",
    "\n",
    "# Lightgbm with OPTUNA tuned hyperparameters\n",
    "cv_predictions_lgbm = np.zeros((len(y_train),2))\n",
    "test_predictions_lgbm = np.zeros((len(y_test),2))\n",
    "#..................................................................................................................\n",
    "feature_importance_lgbm=pd.DataFrame()\n",
    "feature_importance_lgbm[\"features\"]=X_train.drop(rem_col, axis=1).columns.to_list()\n",
    "feature_importance_lgbm[\"importance\"]=0\n",
    "#..................................................................................................................\n",
    "models=dict()\n",
    "#..................................................................................................................\n",
    "i=1\n",
    "skf = StratifiedKFold(n_splits= 11, random_state=42, shuffle=True)\n",
    "for train_index, test_index in skf.split(X_train.drop(rem_col, axis=1), y_train):\n",
    "    param_grid = {\n",
    "        \"learning_rate\":,\n",
    "        \"n_estimators\":,\n",
    "        \"num_leaves\":,\n",
    "        \"max_depth\":,\n",
    "        \"missing\":,\n",
    "        \"is_unbalance\":,\n",
    "        \"importance_type\":,\n",
    "        \"min_child_samples\":,\n",
    "        \"min_split_gain\" :,\n",
    "        \"subsample\":,\n",
    "        \"colsample_bytree\":,\n",
    "        \"reg_alpha\":,\n",
    "        \"bagging_fraction\":,\n",
    "        \"bagging_freq\":\n",
    "        }\n",
    "    \n",
    "    Grid_lgb= HalvingGridSearchCV(LGBMClassifier(n_jobs=-1),scoring =\"roc_auc\",param_grid=param_grid,\n",
    "        cv =StratifiedKFold(n_splits=5),refit=True,n_jobs = -1)\n",
    "    \n",
    "    X_res, y_res = rus.fit_resample(X_train.drop(rem_col, axis=1).iloc[train_index],y_train.iloc[train_index])\n",
    "    \n",
    "    Grid_lgb.fit(X_res, y_res,\n",
    "                 eval_set=[(X_train.drop(rem_col, axis=1).iloc[train_index],y_train.iloc[train_index]),(X_train.drop(rem_col, axis=1).iloc[test_index],y_train.iloc[test_index])],\n",
    "            eval_metric=[\"auc\", \"binary_logloss\"],verbose=True,early_stopping_rounds=200)\n",
    "                 \n",
    "    \n",
    "    clf=Grid_lgb.best_estimator_\n",
    "    print(\"---------------------------------------------------------------------------------------------------\")\n",
    "    print(\"Maodel LGBM \"+str(i)+\" :\",clf)\n",
    "    models[\"Maodel LGBM \"+str(i)]=clf\n",
    "    print(\"---------------------------------------------------------------------------------------------------\")\n",
    "    \n",
    "    cv_predictions_lgbm[test_index] = clf.predict_proba(X_train.drop(rem_col, axis=1).iloc[test_index])\n",
    "    test_predictions_lgbm+= clf.predict_proba(X_test.drop(rem_col, axis=1))/ skf.n_splits\n",
    "    \n",
    "    feature_importance_lgbm[\"importance\"]+=clf.feature_importances_ /skf.n_splits\n",
    "    i+=1\n",
    "#..............................................................................................................   \n",
    "lgbm_cv_auc_train= roc_auc_score(y_train,cv_predictions_lgbm[:,1])\n",
    "lgbm_auc_test=roc_auc_score(y_test, test_predictions_lgbm[:,1])\n",
    "#..............................................................................................................\n",
    "print(\"LGBM's Roc CV Score:> \",round(lgbm_cv_auc_train,3))\n",
    "print(\"LGBM's Roc Test Score:> \",round(lgbm_auc_test,3))\n",
    "print(\"-------------------------------------------------------------------------------------------------------\")"
   ]
  },
  {
   "cell_type": "markdown",
   "id": "3b65cea1",
   "metadata": {},
   "source": [
    "<a class=\"btn btn-warning btn-lg btn-block active\" role=\"button\" aria-pressed=\"true\" style=\"background-color:DodgerBlue; color:white\">Classification Report</a>"
   ]
  },
  {
   "cell_type": "code",
   "execution_count": null,
   "id": "f5e66ec2",
   "metadata": {},
   "outputs": [],
   "source": [
    "#Testing data classification report\n",
    "print(classification_report(y_test.values, np.where(test_predictions_lgbm[:,1]>0.5,1,0)))\n",
    "\n",
    "#Training data classification report XGboost without undersampling 2023/09/13\n",
    "print(classification_report(y_train.values, np.where(cv_predictions_lgbm[:,1]>0.5,1,0)))"
   ]
  },
  {
   "cell_type": "markdown",
   "id": "ab51945d",
   "metadata": {},
   "source": [
    "<a class=\"btn btn-warning btn-lg btn-block active\" role=\"button\" aria-pressed=\"true\" style=\"background-color:DodgerBlue; color:white\">Confusion Matrix</a>"
   ]
  },
  {
   "cell_type": "code",
   "execution_count": null,
   "id": "2d314b5a",
   "metadata": {},
   "outputs": [],
   "source": [
    "plt.figure(figsize=(20,10)) #2023/10/11\n",
    "plt.subplot(236)\n",
    "\n",
    "ax1=plt.subplot(231)\n",
    "skplt.metrics.plot_confusion_matrix(y_test.values,np.where(test_predictions_lgbm[:,1]>0.65,1,0),ax=ax1,title=\"Confusion Matrix LGBM: Th=0.65\",cmap=plt.cm.Blues, normalize=True)\n",
    "\n",
    "ax2=plt.subplot(232)\n",
    "skplt.metrics.plot_confusion_matrix(y_test.values,np.where(test_predictions_lgbm[:,1]>0.5,1,0), ax=ax2,title=\"Confusion Matrix LGBM: Th=0.5\",cmap=plt.cm.Accent, normalize=True)\n",
    "\n",
    "ax3=plt.subplot(233)\n",
    "skplt.metrics.plot_confusion_matrix(y_test.values,np.where(test_predictions_lgbm[:,1]>0.40,1,0), ax=ax3,title=\"Confusion Matrix LGBM: Th=0.40\",cmap=plt.cm.Blues)\n",
    "\n",
    "ax4=plt.subplot(234)\n",
    "skplt.metrics.plot_confusion_matrix(y_test.values,np.where(test_predictions_lgbm[:,1]>0.35,1,0), ax=ax4,title=\"Confusion Matrix LGBM: Th=0.35\",cmap=plt.cm.Accent)\n",
    "\n",
    "ax5=plt.subplot(235)\n",
    "skplt.metrics.plot_confusion_matrix(y_test.values,np.where(test_predictions_lgbm[:,1]>0.30,1,0), ax=ax5,title=\"Confusion Matrix LGBM: Th=0.30\",cmap=plt.cm.Blues)\n",
    "\n",
    "ax6=plt.subplot(236)\n",
    "skplt.metrics.plot_confusion_matrix(y_test.values,np.where(test_predictions_lgbm[:,1]>0.25,1,0), ax=ax6,title=\"Confusion Matrix LGBM: Th=0.25\",cmap=plt.cm.Accent)\n",
    "\n",
    "plt.show()"
   ]
  },
  {
   "cell_type": "markdown",
   "id": "bf13de6a",
   "metadata": {},
   "source": [
    "<a class=\"btn btn-warning btn-lg btn-block active\" role=\"button\" aria-pressed=\"true\" style=\"background-color:DodgerBlue; color:white\"> plotting of Metrics</a>"
   ]
  },
  {
   "cell_type": "code",
   "execution_count": null,
   "id": "508b0586",
   "metadata": {},
   "outputs": [],
   "source": [
    "plt.figure(figsize=(25,20)) \n",
    "plt.subplot(236)\n",
    "\n",
    "ax1=plt.subplot(231)\n",
    "skplt.metrics.plot_roc_curve(y_test.values,test_predictions_lgbm, ax=ax1,title='LightGBM’s ROC Curves')\n",
    "\n",
    "ax2=plt.subplot(232)\n",
    "skplt.metrics.plot_precision_recall_curve(y_test.values,test_predictions_lgbm, ax=ax2,title='LightGBM’s Precision-Recall Curve')\n",
    "\n",
    "ax3=plt.subplot(233)\n",
    "\n",
    "skplt.metrics.plot_calibration_curve(y_test.values,[clf.predict_proba(X_test.drop(rem_col, axis=1)) for clf in models.values()],\n",
    "                                     clf_names=list(models.keys()), ax=ax3,title='LightGBM’s Calibration plots (Reliability Curves)')\n",
    "\n",
    "ax4=plt.subplot(234)\n",
    "\n",
    "skplt.metrics.plot_lift_curve(y_test.values,test_predictions_lgbm, ax=ax4,title='LightGBM’s Lift Curve')\n",
    "\n",
    "ax5=plt.subplot(235)\n",
    "\n",
    "skplt.metrics.plot_cumulative_gain(y_test.values,test_predictions_lgbm, ax=ax5,title='LightGBM’s Cumulative Gains Curve')\n",
    "\n",
    "\n",
    "ax6=plt.subplot(236)\n",
    "\n",
    "skplt.metrics.plot_ks_statistic(y_test.values,test_predictions_lgbm, ax=ax6,title='LightGBM’s KS Statistic Plot')\n",
    "plt.show()"
   ]
  },
  {
   "cell_type": "markdown",
   "id": "81d2a981",
   "metadata": {},
   "source": [
    "### Visualisation with plot_metric for a Specific Threshold"
   ]
  },
  {
   "cell_type": "code",
   "execution_count": null,
   "id": "eb19345b",
   "metadata": {},
   "outputs": [],
   "source": [
    "\n",
    "bc_lgbm = functions.BinaryClassification(y_true=y_test.values, y_pred=test_predictions_lgbm[:,1], #2023/08/02\n",
    "                                    labels=[\"No\", 'Yes'],threshold=0.5)\n",
    "\n",
    "plt.figure(figsize=(20,17))\n",
    "plt.subplot2grid(shape=(3,6), loc=(0,0), colspan=2)\n",
    "bc_lgbm .plot_roc_curve()\n",
    "\n",
    "plt.subplot2grid((3,6), (0,2), colspan=2)\n",
    "bc_lgbm .plot_precision_recall_curve()\n",
    "\n",
    "plt.subplot2grid((3,6), (1,0), colspan=2)\n",
    "bc_lgbm .plot_class_distribution()\n",
    "\n",
    "plt.subplot2grid((3,6), (1,2), colspan=2)\n",
    "bc_lgbm .plot_confusion_matrix(cmap=plt.cm.Accent)\n",
    "\n",
    "plt.subplot2grid((3,6), (2,0), colspan=2)\n",
    "bc_lgbm .plot_confusion_matrix(normalize=True,cmap=plt.cm.Blues)\n",
    "\n",
    "plt.subplot2grid((3,6), (2,2), colspan=2)\n",
    "bc_lgbm .plot_threshold()\n",
    "\n",
    "plt.show()\n",
    "bc_lgbm.print_report()"
   ]
  },
  {
   "cell_type": "markdown",
   "id": "a178027e",
   "metadata": {},
   "source": [
    "<a class=\"btn btn-warning btn-lg btn-block active\" role=\"button\" aria-pressed=\"true\" style=\"background-color:DodgerBlue; color:white\">Probability Plot</a>"
   ]
  },
  {
   "cell_type": "code",
   "execution_count": null,
   "id": "12cfb469",
   "metadata": {},
   "outputs": [],
   "source": [
    "plt.figure(figsize=(10,5))\n",
    "df_preds_lgbm=pd.DataFrame()\n",
    "df_preds_lgbm[\"preds_lgbm\"]=test_predictions_lgbm[:,1]\n",
    "df_preds_lgbm[\"TARGET\"]=y_test.values\n",
    "sns.distplot(df_preds_lgbm[df_preds_lgbm[\"TARGET\"]==1][\"preds_lgbm\"],color=\"r\",hist=False)\n",
    "sns.distplot(df_preds_lgbm[df_preds_lgbm[\"TARGET\"]==0][\"preds_lgbm\"],color=\"b\",hist=False)\n",
    "plt.title(\"Probability distribution: LGBM\")\n",
    "plt.xlim((-0.2,1.2))\n",
    "plt.xlabel(\"Probability\")\n",
    "plt.legend([\"Yes\", \"No\"])\n",
    "plt.show()"
   ]
  },
  {
   "cell_type": "markdown",
   "id": "11725d09",
   "metadata": {},
   "source": [
    "<a class=\"btn btn-warning btn-lg btn-block active\" role=\"button\" aria-pressed=\"true\" style=\"background-color:DodgerBlue; color:white\">Feature Importance</a>"
   ]
  },
  {
   "cell_type": "code",
   "execution_count": null,
   "id": "de1c8859",
   "metadata": {},
   "outputs": [],
   "source": [
    "plt.figure(figsize=(13,10))\n",
    "y=feature_importance_lgbm.sort_values(by=\"importance\",ascending=False)[\"importance\"][:40].values\n",
    "x=[c for c in feature_importance_lgbm.sort_values(by=\"importance\",ascending=False)[\"features\"][:40].values]\n",
    "sns.barplot(x=y,y=x)\n",
    "plt.title(\"lgbm’s Feature Importance\")\n",
    "plt.xlabel(\"Importance\")\n",
    "plt.ylabel(\"Features\")\n",
    "plt.show()"
   ]
  },
  {
   "cell_type": "markdown",
   "id": "724ef41a",
   "metadata": {},
   "source": [
    "<a class=\"btn btn-warning btn-lg btn-block active\" role=\"button\" aria-pressed=\"true\" style=\"background-color:DodgerBlue; color:white\">SHAP</a>"
   ]
  },
  {
   "cell_type": "code",
   "execution_count": null,
   "id": "12fb542b",
   "metadata": {},
   "outputs": [],
   "source": [
    "explainer = shap.TreeExplainer(list(models.values())[6])\n",
    "shap_values = explainer.shap_values(X_test.drop(rem_col, axis=1))"
   ]
  },
  {
   "cell_type": "code",
   "execution_count": null,
   "id": "3e16cea5",
   "metadata": {},
   "outputs": [],
   "source": [
    "for name in x:\n",
    "    shap.dependence_plot(name, shap_values[1], X_test.drop(rem_col,axis=1), display_features=X_test.drop(rem_col,axis=1))"
   ]
  },
  {
   "cell_type": "markdown",
   "id": "b347054f",
   "metadata": {},
   "source": [
    "<a id='Prediction' style=\"color:blue;font-size:140%;\"> 4. Prediction</a>"
   ]
  },
  {
   "cell_type": "code",
   "execution_count": null,
   "id": "1910851a",
   "metadata": {},
   "outputs": [],
   "source": [
    "preds=np.zeros((len(df_score),2))\n",
    "\n",
    "models=list(pd.read_pickle(\"PATH\").to_dict('index').values())[0]\n",
    "for model in list(models.keys()):\n",
    "    model_name=str(model)+'MARKERS'\n",
    "    loaded_model = pickle.load(open(model_name, 'rb'))\n",
    "    print(loaded_model)\n",
    "    preds+=loaded_model.predict_proba(df_score[X_train.columns].drop(rem_col, axis=1))/len(list(models.keys()))\n",
    "    print('.....................................')\n",
    "    print(\"Prediction was made by {}.\".format(model))\n",
    "    print(\"---------------------------------------------------------------------------------\")\n",
    "    print(\"---------------------------------------------------------------------------------\")\n",
    "    print(\"---------------------------------------------------------------------------------\")"
   ]
  },
  {
   "cell_type": "code",
   "execution_count": null,
   "id": "e6f0ae8b",
   "metadata": {},
   "outputs": [],
   "source": [
    "pd.DataFrame(data=preds,columns=[\"No\",\"Yes\"]).head(10)"
   ]
  },
  {
   "cell_type": "code",
   "execution_count": null,
   "id": "10c805a9",
   "metadata": {},
   "outputs": [],
   "source": [
    "plt.figure(figsize=(20,6))\n",
    "plt.subplot(133)\n",
    "\n",
    "\n",
    "ax1=plt.subplot(131)\n",
    "sns.countplot(np.where(preds[:,1]>=0.5,1,0),color=\"b\",ax=ax1)\n",
    "plt.title(\"Predicted classes for threshold 0.5\")\n",
    "\n",
    "\n",
    "ax2=plt.subplot(132)\n",
    "sns.distplot(preds[:,1],hist=False,color=\"r\",ax=ax2)\n",
    "plt.axvline(x=0.5)\n",
    "plt.title(\"distribution of probabilities for taking FIO\")\n",
    "\n",
    "\n",
    "ax3=plt.subplot(133)\n",
    "sns.barplot(x=pd.Series(np.where(preds[:,1]>=0.5,1,0)).value_counts(normalize=True).index,\n",
    "              y=pd.Series(np.where(preds[:,1]>=0.5,1,0)).value_counts(normalize=True).values,color=\"g\",ax=ax3)\n",
    "plt.title(\"Predicted classes(normalized) for threshold 0.5\")\n",
    "\n",
    "\n",
    "plt.show()"
   ]
  },
  {
   "cell_type": "code",
   "execution_count": null,
   "id": "5c077d7b",
   "metadata": {},
   "outputs": [],
   "source": [
    "plt.figure(figsize=(15,6))\n",
    "sns.displot([ i for i in preds[:,1] if i>0.5])\n",
    "plt.title(\"Predicted probabilities of exercising (Probabilities > 0.5) vs count\")\n",
    "plt.xlabel(\"Predicted probabilities\")\n",
    "plt.show();"
   ]
  }
 ],
 "metadata": {
  "kernelspec": {
   "display_name": "Python 3 (ipykernel)",
   "language": "python",
   "name": "python3"
  },
  "language_info": {
   "codemirror_mode": {
    "name": "ipython",
    "version": 3
   },
   "file_extension": ".py",
   "mimetype": "text/x-python",
   "name": "python",
   "nbconvert_exporter": "python",
   "pygments_lexer": "ipython3",
   "version": "3.11.6"
  }
 },
 "nbformat": 4,
 "nbformat_minor": 5
}
